{
 "cells": [
  {
   "cell_type": "code",
   "execution_count": 1,
   "metadata": {},
   "outputs": [
    {
     "name": "stderr",
     "output_type": "stream",
     "text": [
      "Failed to detect the name of this notebook, you can set it manually with the WANDB_NOTEBOOK_NAME environment variable to enable code saving.\n",
      "\u001b[34m\u001b[1mwandb\u001b[0m: Currently logged in as: \u001b[33mdylanonwic\u001b[0m (\u001b[33mdylanon\u001b[0m). Use \u001b[1m`wandb login --relogin`\u001b[0m to force relogin\n",
      "\u001b[34m\u001b[1mwandb\u001b[0m: \u001b[33mWARNING\u001b[0m If you're specifying your api key in code, ensure this code is not shared publicly.\n",
      "\u001b[34m\u001b[1mwandb\u001b[0m: \u001b[33mWARNING\u001b[0m Consider setting the WANDB_API_KEY environment variable, or running `wandb login` from the command line.\n",
      "\u001b[34m\u001b[1mwandb\u001b[0m: Appending key for api.wandb.ai to your netrc file: C:\\Users\\dylan/.netrc\n"
     ]
    },
    {
     "data": {
      "application/vnd.jupyter.widget-view+json": {
       "model_id": "4e8e632b5c1b45db845327f35a2cc1ab",
       "version_major": 2,
       "version_minor": 0
      },
      "text/plain": [
       "VBox(children=(Label(value='Waiting for wandb.init()...\\r'), FloatProgress(value=0.011111111111111112, max=1.0…"
      ]
     },
     "metadata": {},
     "output_type": "display_data"
    },
    {
     "data": {
      "text/html": [
       "wandb version 0.15.12 is available!  To upgrade, please run:\n",
       " $ pip install wandb --upgrade"
      ],
      "text/plain": [
       "<IPython.core.display.HTML object>"
      ]
     },
     "metadata": {},
     "output_type": "display_data"
    },
    {
     "data": {
      "text/html": [
       "Tracking run with wandb version 0.15.11"
      ],
      "text/plain": [
       "<IPython.core.display.HTML object>"
      ]
     },
     "metadata": {},
     "output_type": "display_data"
    },
    {
     "data": {
      "text/html": [
       "Run data is saved locally in <code>c:\\Users\\dylan\\Projects\\Text-Summarization-model\\wandb\\run-20231009_192553-4j6gpmh2</code>"
      ],
      "text/plain": [
       "<IPython.core.display.HTML object>"
      ]
     },
     "metadata": {},
     "output_type": "display_data"
    },
    {
     "data": {
      "text/html": [
       "Syncing run <strong><a href='https://wandb.ai/dylanon/text-summarization-model/runs/4j6gpmh2' target=\"_blank\">sparkling-meadow-13</a></strong> to <a href='https://wandb.ai/dylanon/text-summarization-model' target=\"_blank\">Weights & Biases</a> (<a href='https://wandb.me/run' target=\"_blank\">docs</a>)<br/>"
      ],
      "text/plain": [
       "<IPython.core.display.HTML object>"
      ]
     },
     "metadata": {},
     "output_type": "display_data"
    },
    {
     "data": {
      "text/html": [
       " View project at <a href='https://wandb.ai/dylanon/text-summarization-model' target=\"_blank\">https://wandb.ai/dylanon/text-summarization-model</a>"
      ],
      "text/plain": [
       "<IPython.core.display.HTML object>"
      ]
     },
     "metadata": {},
     "output_type": "display_data"
    },
    {
     "data": {
      "text/html": [
       " View run at <a href='https://wandb.ai/dylanon/text-summarization-model/runs/4j6gpmh2' target=\"_blank\">https://wandb.ai/dylanon/text-summarization-model/runs/4j6gpmh2</a>"
      ],
      "text/plain": [
       "<IPython.core.display.HTML object>"
      ]
     },
     "metadata": {},
     "output_type": "display_data"
    },
    {
     "name": "stderr",
     "output_type": "stream",
     "text": [
      "\u001b[34m\u001b[1mwandb\u001b[0m: Downloading large artifact slices:latest, 6632.04MB. 11 files... \n",
      "\u001b[34m\u001b[1mwandb\u001b[0m:   11 of 11 files downloaded.  \n",
      "Done. 0:0:4.8\n"
     ]
    }
   ],
   "source": [
    "import wandb\n",
    "import credentials as cre\n",
    "import os \n",
    "\n",
    "wandb.login(key=cre.wandb_key)\n",
    "run = wandb.init()\n",
    "artifact = run.use_artifact('dylanon/text-summarization-model/slices:latest', type='dataset')\n",
    "artifact_dir = artifact.download(root=\"datasets\")"
   ]
  },
  {
   "cell_type": "code",
   "execution_count": 2,
   "metadata": {},
   "outputs": [
    {
     "name": "stderr",
     "output_type": "stream",
     "text": [
      "c:\\Users\\dylan\\AppData\\Local\\Programs\\Python\\Python310\\lib\\site-packages\\transformers\\convert_slow_tokenizer.py:454: UserWarning: The sentencepiece tokenizer that you are converting to a fast tokenizer uses the byte fallback option which is not implemented in the fast tokenizers. In practice this means that the fast version of the tokenizer can produce unknown tokens whereas the sentencepiece version would have converted these unknown tokens into a sequence of byte tokens matching the original piece of text.\n",
      "  warnings.warn(\n"
     ]
    }
   ],
   "source": [
    "from transformers import AutoTokenizer\n",
    "import re\n",
    "tokenizer = AutoTokenizer.from_pretrained(\"csebuetnlp/mT5_multilingual_XLSum\", legacy=False)"
   ]
  },
  {
   "cell_type": "code",
   "execution_count": 3,
   "metadata": {},
   "outputs": [],
   "source": [
    "def preprocess_function(dataset):\n",
    "    text_token_len = 512  #512\n",
    "    sum_token_len = 84   #84\n",
    "    # Convert the text and summary columns to tensors.\n",
    "    input_text = dataset[\"text\"]\n",
    "    target_text = dataset[\"sum\"]\n",
    "\n",
    "    # this line just follow model card in huggingface\n",
    "    WHITESPACE_HANDLER = lambda k: re.sub('\\s+', ' ', re.sub('\\n+', ' ', k.strip()))\n",
    "    input_text = [WHITESPACE_HANDLER(text) for text in input_text]\n",
    "    \n",
    "    # Tokenize the input and target text.\n",
    "    text_token = tokenizer(input_text, truncation=True, padding=True, max_length=text_token_len)\n",
    "    sum_token = tokenizer(target_text, truncation=True, padding=True, max_length=sum_token_len)\n",
    "\n",
    "    # model input\n",
    "    model_inputs = text_token\n",
    "    model_inputs[\"labels\"] = sum_token[\"input_ids\"]\n",
    "    return model_inputs"
   ]
  },
  {
   "cell_type": "code",
   "execution_count": 4,
   "metadata": {},
   "outputs": [],
   "source": [
    "from datasets import load_dataset\n",
    "import datasets"
   ]
  },
  {
   "cell_type": "code",
   "execution_count": 7,
   "metadata": {},
   "outputs": [
    {
     "name": "stderr",
     "output_type": "stream",
     "text": [
      "Found cached dataset parquet (C:/Users/dylan/.cache/huggingface/datasets/parquet/default-84a4dd163861405f/0.0.0/2a3b91fbd88a2c90d1dbbb32b460cf621d31bd5b05b934492fdef7d8d6f236ec)\n"
     ]
    },
    {
     "data": {
      "application/vnd.jupyter.widget-view+json": {
       "model_id": "68dd341168ab4a18a6de7babd2b8745b",
       "version_major": 2,
       "version_minor": 0
      },
      "text/plain": [
       "  0%|          | 0/3 [00:00<?, ?it/s]"
      ]
     },
     "metadata": {},
     "output_type": "display_data"
    }
   ],
   "source": [
    "# rename test and val datasets file.\n",
    "test_file = \"./datasets/slice_8.parquet\"\n",
    "val_file = \"./datasets/slice_9.parquet\"\n",
    "os.rename(test_file, \"./datasets/test.parquet\")\n",
    "os.rename(val_file, \"./datasets/val.parquet\")\n",
    "\n",
    "data_files = {\n",
    "    \"train\": os.path.join(artifact_dir, \"slice_*.parquet\"),\n",
    "    \"test\": os.path.join(artifact_dir, \"test.parquet\"),\n",
    "    \"validation\": os.path.join(artifact_dir, \"val.parquet\")\n",
    "    }\n",
    "\n",
    "# read artifact\n",
    "dataset = load_dataset(\"parquet\", data_files=data_files, num_proc=16)"
   ]
  },
  {
   "cell_type": "code",
   "execution_count": 10,
   "metadata": {},
   "outputs": [
    {
     "data": {
      "application/vnd.jupyter.widget-view+json": {
       "model_id": "91180e6203d14d889df5d48200fdeb67",
       "version_major": 2,
       "version_minor": 0
      },
      "text/plain": [
       "Saving the dataset (0/20 shards):   0%|          | 0/7316873 [00:00<?, ? examples/s]"
      ]
     },
     "metadata": {},
     "output_type": "display_data"
    }
   ],
   "source": [
    "dataset.save_to_disk('./datasets/datasets')"
   ]
  },
  {
   "cell_type": "code",
   "execution_count": 11,
   "metadata": {},
   "outputs": [
    {
     "data": {
      "application/vnd.jupyter.widget-view+json": {
       "model_id": "7b6282e31cbf48e2a5bfb31d439d27a1",
       "version_major": 2,
       "version_minor": 0
      },
      "text/plain": [
       "Map:   0%|          | 0/7316873 [00:00<?, ? examples/s]"
      ]
     },
     "metadata": {},
     "output_type": "display_data"
    },
    {
     "data": {
      "application/vnd.jupyter.widget-view+json": {
       "model_id": "d35fb1326273407db2bd0863b851097c",
       "version_major": 2,
       "version_minor": 0
      },
      "text/plain": [
       "Map:   0%|          | 0/916620 [00:00<?, ? examples/s]"
      ]
     },
     "metadata": {},
     "output_type": "display_data"
    },
    {
     "data": {
      "application/vnd.jupyter.widget-view+json": {
       "model_id": "0a4457ebff924c1aa3c915cd1142ee42",
       "version_major": 2,
       "version_minor": 0
      },
      "text/plain": [
       "Map:   0%|          | 0/915554 [00:00<?, ? examples/s]"
      ]
     },
     "metadata": {},
     "output_type": "display_data"
    }
   ],
   "source": [
    "# @title ##Prepare data\n",
    "tokenized_dataset = dataset.map(preprocess_function, batched=True, num_proc=16)\n",
    "tokenized_dataset = tokenized_dataset.remove_columns(['text','sum'])"
   ]
  },
  {
   "cell_type": "code",
   "execution_count": 57,
   "metadata": {},
   "outputs": [
    {
     "data": {
      "application/vnd.jupyter.widget-view+json": {
       "model_id": "7716b608fd9045a29ae9a184f59b89d4",
       "version_major": 2,
       "version_minor": 0
      },
      "text/plain": [
       "Saving the dataset (0/65 shards):   0%|          | 0/9149047 [00:00<?, ? examples/s]"
      ]
     },
     "metadata": {},
     "output_type": "display_data"
    }
   ],
   "source": [
    "tokenized_dataset.save_to_disk('./datasets/tokenized_dataset')"
   ]
  },
  {
   "cell_type": "code",
   "execution_count": 59,
   "metadata": {},
   "outputs": [
    {
     "data": {
      "text/plain": [
       "<Artifact tokenized-dataset>"
      ]
     },
     "execution_count": 59,
     "metadata": {},
     "output_type": "execute_result"
    }
   ],
   "source": [
    "art = wandb.Artifact(f\"tokenized-dataset\", type=\"dataset\")\n",
    "local_path = os.path.abspath(\"./datasets/tokenized_dataset\")\n",
    "\n",
    "for file in os.listdir(local_path):\n",
    "    path = os.path.join(local_path, file)\n",
    "    try:\n",
    "        if os.path.isdir(path):\n",
    "            art.add_dir(path)\n",
    "        else:\n",
    "            art.add_file(path)\n",
    "    except Exception as e: \n",
    "        print(e)\n",
    "\n",
    "wandb.log_artifact(art)"
   ]
  },
  {
   "cell_type": "code",
   "execution_count": null,
   "metadata": {},
   "outputs": [],
   "source": [
    "art = wandb.Artifact(f\"datasets\", type=\"dataset\")\n",
    "local_path = os.path.abspath(\"./datasets/dataset\")\n",
    "\n",
    "for file in os.listdir(local_path):\n",
    "    path = os.path.join(local_path, file)\n",
    "    try:\n",
    "        if os.path.isdir(path):\n",
    "            art.add_dir(path)\n",
    "        else:\n",
    "            art.add_file(path)\n",
    "    except Exception as e: \n",
    "        print(e)\n",
    "\n",
    "wandb.log_artifact(art)"
   ]
  }
 ],
 "metadata": {
  "kernelspec": {
   "display_name": "Python 3",
   "language": "python",
   "name": "python3"
  },
  "language_info": {
   "codemirror_mode": {
    "name": "ipython",
    "version": 3
   },
   "file_extension": ".py",
   "mimetype": "text/x-python",
   "name": "python",
   "nbconvert_exporter": "python",
   "pygments_lexer": "ipython3",
   "version": "3.10.11"
  },
  "orig_nbformat": 4
 },
 "nbformat": 4,
 "nbformat_minor": 2
}
