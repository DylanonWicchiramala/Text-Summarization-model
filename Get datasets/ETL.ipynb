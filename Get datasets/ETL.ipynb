{
 "cells": [
  {
   "cell_type": "markdown",
   "metadata": {},
   "source": [
    "This file doing a ETL process.\n",
    "<br>Extracting the original data files from \"data_repo\" and transfrom the table into the same format.<br> Load the transformed data into one file \"dataset\""
   ]
  },
  {
   "cell_type": "code",
   "execution_count": 72,
   "metadata": {},
   "outputs": [],
   "source": [
    "import os\n",
    "import json\n",
    "import pyarrow as pa    \n",
    "import pyarrow.parquet as pq\n",
    "from tqdm import tqdm"
   ]
  },
  {
   "cell_type": "markdown",
   "metadata": {},
   "source": [
    "#### Extract, Transform"
   ]
  },
  {
   "cell_type": "code",
   "execution_count": 73,
   "metadata": {},
   "outputs": [],
   "source": [
    "def extract_transform_bbc_news():\n",
    "    pass\n",
    "\n",
    "\n",
    "def extract_transform_bigpatent():\n",
    "    pass\n",
    "\n",
    "\n",
    "def extract_transform_cornell():\n",
    "    pass\n",
    "\n",
    "\n",
    "def extract_transform_gigaword():\n",
    "    data_train_path = os.path.abspath(\"data_repo\\gigaword\\data_train.json\")\n",
    "    data_test_path = os.path.abspath(\"data_repo\\gigaword\\data_test.json\")\n",
    "    data_val_path = os.path.abspath(\"data_repo\\gigaword\\data_val.json\")\n",
    "\n",
    "    json_train = json.load(open(data_train_path))\n",
    "    json_test = json.load(open(data_test_path))\n",
    "    json_val = json.load(open(data_val_path))\n",
    "\n",
    "    text = json_train['document'] + json_test['document'] + json_val['document']\n",
    "    sum = json_train['summary'] + json_test['summary'] + json_val['summary']\n",
    "\n",
    "    n_features = len(sum)\n",
    "\n",
    "    return {\n",
    "        \"text\":text,\n",
    "        \"sum\":sum,\n",
    "        \"source\":[\"gigaword\"]*n_features,\n",
    "    }\n",
    "\n",
    "\n",
    "def extract_transform_multi_news():\n",
    "    pass\n",
    "\n",
    "\n",
    "def extract_transform_scitldr():\n",
    "    pass\n",
    "\n",
    "\n",
    "def extract_transform_tldr_17():\n",
    "    pass\n",
    "\n",
    "\n",
    "def extract_transform_wcep():\n",
    "    pass\n",
    "\n",
    "\n",
    "def extract_transform_wikihow():\n",
    "    data_path = os.path.abspath(\"data_repo\\wikihow\\data.json\")\n",
    "    file = open(data_path)\n",
    "    json_data = json.load(file)\n",
    "    n_features = len(json_data['text'].values())\n",
    "    \n",
    "    return {\n",
    "        \"text\":json_data['text'].values(),\n",
    "        \"sum\":json_data['overview'].values(),\n",
    "        \"source\":[\"wikihow\"]*n_features,\n",
    "    }\n",
    "\n",
    "\n",
    "def extract_transform_x_sum():\n",
    "    pass\n",
    "\n",
    "\n",
    "def extract_transform_how2():\n",
    "    pass\n",
    "\n",
    "\n",
    "def extract_transform_thaisum():\n",
    "    data_train_path = os.path.abspath(\"data_repo/thaisum/data_train.json\")\n",
    "    data_test_path = os.path.abspath(\"data_repo/thaisum/data_test.json\")\n",
    "    data_val_path = os.path.abspath(\"data_repo/thaisum/data_val.json\")\n",
    "\n",
    "    json_train = json.load(open(data_train_path))\n",
    "    json_test = json.load(open(data_test_path))\n",
    "    json_val = json.load(open(data_val_path))\n",
    "\n",
    "    text = json_train['body'] + json_test['body'] + json_val['body']\n",
    "    sum = json_train['summary'] + json_test['summary'] + json_val['summary']\n",
    "\n",
    "    n_features = len(sum)\n",
    "\n",
    "    return {\n",
    "        \"text\":text,\n",
    "        \"sum\":sum,\n",
    "        \"source\":[\"thaisum\"]*n_features,\n",
    "    }"
   ]
  },
  {
   "cell_type": "markdown",
   "metadata": {},
   "source": [
    "#### Load"
   ]
  },
  {
   "cell_type": "code",
   "execution_count": 74,
   "metadata": {},
   "outputs": [],
   "source": [
    "extract_func_test = lambda: {\n",
    "    \"text\":[\"text\"]*10,\n",
    "    \"sum\":[\"sum\"]*10,\n",
    "    \"source\":[\"text\"]*10,\n",
    "}"
   ]
  },
  {
   "cell_type": "code",
   "execution_count": 76,
   "metadata": {},
   "outputs": [
    {
     "name": "stderr",
     "output_type": "stream",
     "text": [
      "Loadding data into datasets: 100%|██████████| 3/3 [01:58<00:00, 39.45s/it]\n"
     ]
    }
   ],
   "source": [
    "# load data into parquet format\n",
    "# TODO: load data into parquet format\n",
    "\n",
    "target_dir = \"datasets\"\n",
    "func_q = [\n",
    "    extract_transform_gigaword,\n",
    "    extract_transform_wikihow,\n",
    "    extract_transform_thaisum\n",
    "]\n",
    "\n",
    "for i in tqdm(range(len(func_q)), desc=f\"Loadding data into {target_dir}\"):\n",
    "    \n",
    "    data_dict = func_q[i]()\n",
    "    name = data_dict.pop(\"source\")[0]\n",
    "    file_name = name + \".parquet\"\n",
    "\n",
    "    table = pa.table(data_dict)\n",
    "    pq.write_table(table, where=os.path.join(target_dir, file_name))\n",
    "    \n",
    "    del data_dict"
   ]
  }
 ],
 "metadata": {
  "kernelspec": {
   "display_name": "Python 3",
   "language": "python",
   "name": "python3"
  },
  "language_info": {
   "codemirror_mode": {
    "name": "ipython",
    "version": 3
   },
   "file_extension": ".py",
   "mimetype": "text/x-python",
   "name": "python",
   "nbconvert_exporter": "python",
   "pygments_lexer": "ipython3",
   "version": "3.10.11"
  },
  "orig_nbformat": 4
 },
 "nbformat": 4,
 "nbformat_minor": 2
}
