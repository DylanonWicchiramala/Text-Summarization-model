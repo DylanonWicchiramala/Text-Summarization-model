{
 "cells": [
  {
   "cell_type": "code",
   "execution_count": 7,
   "metadata": {},
   "outputs": [
    {
     "name": "stdout",
     "output_type": "stream",
     "text": [
      "bbc-news\n",
      "bigpatent\n",
      "cornell\n",
      "gigaword\n",
      "multi-news\n",
      "scitldr\n",
      "tldr-17\n",
      "wcep\n",
      "wikihow\n",
      "x-sum\n",
      "xscience\n"
     ]
    }
   ],
   "source": [
    "import os"
   ]
  },
  {
   "cell_type": "code",
   "execution_count": null,
   "metadata": {},
   "outputs": [],
   "source": [
    "def extract_transform_bbc_news():\n",
    "    pass\n",
    "\n",
    "\n",
    "def extract_transform_bigpatent():\n",
    "    pass\n",
    "\n",
    "\n",
    "def extract_transform_cornell():\n",
    "    pass\n",
    "\n",
    "\n",
    "def extract_transform_gigaword():\n",
    "    pass\n",
    "\n",
    "\n",
    "def extract_transform_multi_news():\n",
    "    pass\n",
    "\n",
    "\n",
    "def extract_transform_scitldr():\n",
    "    pass\n",
    "\n",
    "\n",
    "def extract_transform_tldr_17():\n",
    "    pass\n",
    "\n",
    "\n",
    "def extract_transform_wcep():\n",
    "    pass\n",
    "\n",
    "\n",
    "def extract_transform_wikihow():\n",
    "    pass\n",
    "\n",
    "\n",
    "def extract_transform_x_sum():\n",
    "    pass\n",
    "\n",
    "\n",
    "def extract_transform_xscience():\n",
    "    pass\n",
    "\n",
    "\n",
    "def extract_transform_how2():\n",
    "    pass"
   ]
  }
 ],
 "metadata": {
  "kernelspec": {
   "display_name": "Python 3",
   "language": "python",
   "name": "python3"
  },
  "language_info": {
   "codemirror_mode": {
    "name": "ipython",
    "version": 3
   },
   "file_extension": ".py",
   "mimetype": "text/x-python",
   "name": "python",
   "nbconvert_exporter": "python",
   "pygments_lexer": "ipython3",
   "version": "3.10.11"
  },
  "orig_nbformat": 4
 },
 "nbformat": 4,
 "nbformat_minor": 2
}
