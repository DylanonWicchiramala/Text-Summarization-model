{
 "cells": [
  {
   "cell_type": "code",
   "execution_count": 1,
   "metadata": {},
   "outputs": [],
   "source": [
    "import os\n",
    "import json"
   ]
  },
  {
   "cell_type": "code",
   "execution_count": 2,
   "metadata": {},
   "outputs": [],
   "source": [
    "def extract_transform_bbc_news():\n",
    "    pass\n",
    "\n",
    "\n",
    "def extract_transform_bigpatent():\n",
    "    pass\n",
    "\n",
    "\n",
    "def extract_transform_cornell():\n",
    "    pass\n",
    "\n",
    "\n",
    "def extract_transform_gigaword():\n",
    "    pass\n",
    "\n",
    "\n",
    "def extract_transform_multi_news():\n",
    "    pass\n",
    "\n",
    "\n",
    "def extract_transform_scitldr():\n",
    "    pass\n",
    "\n",
    "\n",
    "def extract_transform_tldr_17():\n",
    "    pass\n",
    "\n",
    "\n",
    "def extract_transform_wcep():\n",
    "    pass\n",
    "\n",
    "\n",
    "def extract_transform_wikihow():\n",
    "    data_path = os.path.abspath(\"data_repo\\wikihow\\data.json\")\n",
    "    file = open(data_path)\n",
    "    json_data = json.load(file)\n",
    "    n_features = len(json_data['text'].values())\n",
    "    \n",
    "    return {\n",
    "        \"text\":json_data['text'].values(),\n",
    "        \"sum\":json_data['overview'].values(),\n",
    "        \"source\":[\"wikihow\"]*n_features,\n",
    "    }\n",
    "\n",
    "\n",
    "def extract_transform_x_sum():\n",
    "    pass\n",
    "\n",
    "\n",
    "def extract_transform_xscience():\n",
    "    pass\n",
    "\n",
    "\n",
    "def extract_transform_how2():\n",
    "    pass"
   ]
  }
 ],
 "metadata": {
  "kernelspec": {
   "display_name": "Python 3",
   "language": "python",
   "name": "python3"
  },
  "language_info": {
   "codemirror_mode": {
    "name": "ipython",
    "version": 3
   },
   "file_extension": ".py",
   "mimetype": "text/x-python",
   "name": "python",
   "nbconvert_exporter": "python",
   "pygments_lexer": "ipython3",
   "version": "3.10.11"
  },
  "orig_nbformat": 4
 },
 "nbformat": 4,
 "nbformat_minor": 2
}
